{
 "cells": [
  {
   "cell_type": "markdown",
   "metadata": {},
   "source": [
    "# RNN"
   ]
  },
  {
   "cell_type": "code",
   "execution_count": 1,
   "metadata": {
    "collapsed": false
   },
   "outputs": [
    {
     "name": "stderr",
     "output_type": "stream",
     "text": [
      "Using gpu device 0: GRID K520 (CNMeM is disabled, cuDNN Version is too old. Update to v5, was 3007.)\n",
      "/home/ubuntu/miniconda2/envs/theano/lib/python2.7/site-packages/theano/tensor/signal/downsample.py:6: UserWarning: downsample module has been moved to the theano.tensor.signal.pool module.\n",
      "  \"downsample module has been moved to the theano.tensor.signal.pool module.\")\n"
     ]
    },
    {
     "name": "stdout",
     "output_type": "stream",
     "text": [
      "verbose: True\n",
      "normal: True\n",
      "win: 3\n",
      "layer_norm: False\n",
      "savemodel: False\n",
      "seed: 345\n",
      "emb_dimension: 90\n",
      "nepochs: 35\n",
      "minibatch_size: 4978\n",
      "nhidden: 200\n",
      "decay: True\n",
      "moving_avg: 3\n",
      "lr: 0.1\n",
      "folder: ../result\n",
      "... loading the dataset\n",
      "Sentences in train: 4978, Words in train: 56590\n",
      "Sentences in test: 893, Words in test: 9198\n",
      "... building the model\n",
      "... training\n",
      "NEW BEST: epoch 0, minibatch 1/1, best test F1: 71.320\n",
      "NEW BEST: epoch 1, minibatch 1/1, best test F1: 80.090\n",
      "NEW BEST: epoch 2, minibatch 1/1, best test F1: 85.400\n",
      "NEW BEST: epoch 3, minibatch 1/1, best test F1: 86.140\n",
      "NEW BEST: epoch 4, minibatch 1/1, best test F1: 88.340\n",
      "NEW BEST: epoch 5, minibatch 1/1, best test F1: 89.200\n",
      "NEW BEST: epoch 6, minibatch 1/1, best test F1: 90.850\n",
      "\n",
      "NEW BEST: epoch 8, minibatch 1/1, best test F1: 92.060\n",
      "\n",
      "NEW BEST: epoch 10, minibatch 1/1, best test F1: 92.400\n",
      "NEW BEST: epoch 11, minibatch 1/1, best test F1: 92.600\n",
      "NEW BEST: epoch 12, minibatch 1/1, best test F1: 93.340\n",
      "\n",
      "\n",
      "NEW BEST: epoch 15, minibatch 1/1, best test F1: 93.540\n",
      "NEW BEST: epoch 16, minibatch 1/1, best test F1: 93.630\n",
      "NEW BEST: epoch 17, minibatch 1/1, best test F1: 93.690\n",
      "NEW BEST: epoch 18, minibatch 1/1, best test F1: 93.890\n",
      "\n",
      "\n",
      "\n",
      "\n",
      "\n",
      "NEW BEST: epoch 24, minibatch 1/1, best test F1: 94.100\n",
      "\n",
      "\n",
      "\n",
      "\n",
      "\n",
      "\n",
      "\n",
      "\n",
      "\n",
      "\n",
      "('BEST RESULT: epoch', 24, 'best test F1', 94.1, 'with the model', '../result')\n"
     ]
    }
   ],
   "source": [
    "\"\"\"For RNN we got accuracy of 94.1 which is almost exactly same as that of paper, 94.11\"\"\"\n",
    "\n",
    "import rnn\n",
    "import theano\n",
    "import imp\n",
    "imp.reload(rnn)\n",
    "\n",
    "param = {\n",
    "        'lr': 0.1,\n",
    "        'verbose': True,\n",
    "        'decay': True,\n",
    "        'win': 3,\n",
    "        'nhidden': 200,\n",
    "        'seed': 345,\n",
    "        'emb_dimension': 90,\n",
    "        'nepochs': 35,\n",
    "        'savemodel': False,\n",
    "        'normal': True,\n",
    "        'layer_norm': False,\n",
    "        'minibatch_size':4978,\n",
    "        'moving_avg':3,\n",
    "        'folder':'../result'}\n",
    "\n",
    "rnn.test_rnn(**param);"
   ]
  },
  {
   "cell_type": "code",
   "execution_count": null,
   "metadata": {
    "collapsed": true
   },
   "outputs": [],
   "source": []
  }
 ],
 "metadata": {
  "kernelspec": {
   "display_name": "Python 2",
   "language": "python",
   "name": "python2"
  },
  "language_info": {
   "codemirror_mode": {
    "name": "ipython",
    "version": 2
   },
   "file_extension": ".py",
   "mimetype": "text/x-python",
   "name": "python",
   "nbconvert_exporter": "python",
   "pygments_lexer": "ipython2",
   "version": "2.7.11"
  }
 },
 "nbformat": 4,
 "nbformat_minor": 0
}
