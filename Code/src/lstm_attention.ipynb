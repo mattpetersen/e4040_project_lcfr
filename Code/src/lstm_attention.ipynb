{
 "cells": [
  {
   "cell_type": "markdown",
   "metadata": {},
   "source": [
    "# LSTM with attention mechanism"
   ]
  },
  {
   "cell_type": "code",
   "execution_count": 1,
   "metadata": {
    "collapsed": false
   },
   "outputs": [
    {
     "name": "stderr",
     "output_type": "stream",
     "text": [
      "Using gpu device 0: GRID K520 (CNMeM is disabled, cuDNN Version is too old. Update to v5, was 3007.)\n",
      "/home/ubuntu/miniconda2/envs/theano/lib/python2.7/site-packages/theano/tensor/signal/downsample.py:6: UserWarning: downsample module has been moved to the theano.tensor.signal.pool module.\n",
      "  \"downsample module has been moved to the theano.tensor.signal.pool module.\")\n"
     ]
    },
    {
     "name": "stdout",
     "output_type": "stream",
     "text": [
      "verbose: True\n",
      "normal: True\n",
      "nhidden2: 300\n",
      "win: 3\n",
      "savemodel: False\n",
      "seed: 345\n",
      "emb_dimension: 90\n",
      "nepochs: 40\n",
      "minibatch_size: 4978\n",
      "nhidden: 300\n",
      "decay: True\n",
      "lr: 0.025\n",
      "folder: ../result_attention\n",
      "... loading the dataset\n",
      "Sentences in train: 4978, Words in train: 56590\n",
      "Sentences in test: 893, Words in test: 9198\n",
      "... building the model\n",
      "... training\n",
      "NEW BEST: epoch 0, minibatch 1/1, best test F1: 86.130\n",
      "NEW BEST: epoch 1, minibatch 1/1, best test F1: 90.240\n",
      "NEW BEST: epoch 2, minibatch 1/1, best test F1: 91.830\n",
      "NEW BEST: epoch 3, minibatch 1/1, best test F1: 92.730\n",
      "NEW BEST: epoch 4, minibatch 1/1, best test F1: 92.810\n",
      "NEW BEST: epoch 5, minibatch 1/1, best test F1: 93.370\n",
      "\n",
      "NEW BEST: epoch 7, minibatch 1/1, best test F1: 93.930\n",
      "\n",
      "\n",
      "NEW BEST: epoch 10, minibatch 1/1, best test F1: 94.000\n",
      "NEW BEST: epoch 11, minibatch 1/1, best test F1: 94.350\n",
      "\n",
      "NEW BEST: epoch 13, minibatch 1/1, best test F1: 94.410\n",
      "\n",
      "\n",
      "\n",
      "NEW BEST: epoch 17, minibatch 1/1, best test F1: 94.560\n",
      "\n",
      "\n",
      "\n",
      "\n",
      "\n",
      "\n",
      "NEW BEST: epoch 24, minibatch 1/1, best test F1: 94.640\n",
      "NEW BEST: epoch 25, minibatch 1/1, best test F1: 94.730\n",
      "\n",
      "\n",
      "\n",
      "\n",
      "\n",
      "\n",
      "\n",
      "\n",
      "\n",
      "\n",
      "('Decay happened. New Learning Rate:', 0.0125)\n",
      "\n",
      "('Decay happened. New Learning Rate:', 0.00625)\n",
      "NEW BEST: epoch 37, minibatch 1/1, best test F1: 95.090\n",
      "\n",
      "\n",
      "('BEST RESULT: epoch', 37, 'best test F1', 95.09, 'with the model', '../result_attention')\n"
     ]
    }
   ],
   "source": [
    "\"\"\"For our LSTM + Attention Mechanism we got 95.09 of accuracy which is the highest among other experiments. Attention\n",
    "mechanism in general helps to increase the accuracy since it focuses more, after passing h_t through softmax\n",
    "layer, on important pattern in sequence\"\"\"\n",
    "\n",
    "import lstm_with_attention\n",
    "import imp\n",
    "imp.reload(lstm_with_attention)\n",
    "\n",
    "param = {\n",
    "    'lr': 0.025,\n",
    "    'verbose': True,\n",
    "    'decay': True,\n",
    "    'win': 3,\n",
    "    'nhidden': 300,\n",
    "    'nhidden2':300,\n",
    "    'seed': 345,\n",
    "    'emb_dimension': 90,\n",
    "    'nepochs': 40,\n",
    "    'savemodel': False,\n",
    "    'normal': True,\n",
    "    'minibatch_size':4978,\n",
    "    'folder':'../result_attention'}\n",
    "\n",
    "lstm_with_attention.test_lstm_att(**param);"
   ]
  },
  {
   "cell_type": "code",
   "execution_count": null,
   "metadata": {
    "collapsed": true
   },
   "outputs": [],
   "source": []
  }
 ],
 "metadata": {
  "kernelspec": {
   "display_name": "Python 2",
   "language": "python",
   "name": "python2"
  },
  "language_info": {
   "codemirror_mode": {
    "name": "ipython",
    "version": 2
   },
   "file_extension": ".py",
   "mimetype": "text/x-python",
   "name": "python",
   "nbconvert_exporter": "python",
   "pygments_lexer": "ipython2",
   "version": "2.7.11"
  }
 },
 "nbformat": 4,
 "nbformat_minor": 0
}
