{
 "cells": [
  {
   "cell_type": "markdown",
   "metadata": {},
   "source": [
    "# Deep RNN"
   ]
  },
  {
   "cell_type": "code",
   "execution_count": 1,
   "metadata": {
    "collapsed": false
   },
   "outputs": [
    {
     "name": "stderr",
     "output_type": "stream",
     "text": [
      "Using gpu device 0: GRID K520 (CNMeM is disabled, cuDNN Version is too old. Update to v5, was 3007.)\n",
      "/home/ubuntu/miniconda2/envs/theano/lib/python2.7/site-packages/theano/tensor/signal/downsample.py:6: UserWarning: downsample module has been moved to the theano.tensor.signal.pool module.\n",
      "  \"downsample module has been moved to the theano.tensor.signal.pool module.\")\n"
     ]
    },
    {
     "name": "stdout",
     "output_type": "stream",
     "text": [
      "verbose: True\n",
      "normal: True\n",
      "nhidden2: 300\n",
      "win: 3\n",
      "layer_norm: False\n",
      "nhidden1: 200\n",
      "savemodel: False\n",
      "seed: 345\n",
      "emb_dimension: 50\n",
      "nepochs: 60\n",
      "minibatch_size: 4978\n",
      "decay: True\n",
      "moving_avg: 3\n",
      "lr: 0.1\n",
      "folder: ../result\n",
      "... loading the dataset\n",
      "Sentences in train: 4978, Words in train: 56590\n",
      "Sentences in test: 893, Words in test: 9198\n",
      "... building the model\n",
      "... training\n",
      "NEW BEST: epoch 0, minibatch 1/1, best test F1: 57.640\n",
      "NEW BEST: epoch 1, minibatch 1/1, best test F1: 73.570\n",
      "NEW BEST: epoch 2, minibatch 1/1, best test F1: 79.980\n",
      "NEW BEST: epoch 3, minibatch 1/1, best test F1: 82.240\n",
      "NEW BEST: epoch 4, minibatch 1/1, best test F1: 87.060\n",
      "NEW BEST: epoch 5, minibatch 1/1, best test F1: 88.790\n",
      "NEW BEST: epoch 6, minibatch 1/1, best test F1: 89.100\n",
      "NEW BEST: epoch 7, minibatch 1/1, best test F1: 90.390\n",
      "NEW BEST: epoch 8, minibatch 1/1, best test F1: 92.090\n",
      "\n",
      "NEW BEST: epoch 10, minibatch 1/1, best test F1: 92.220\n",
      "NEW BEST: epoch 11, minibatch 1/1, best test F1: 93.010\n",
      "\n",
      "\n",
      "\n",
      "\n",
      "\n",
      "\n",
      "NEW BEST: epoch 18, minibatch 1/1, best test F1: 93.250\n",
      "\n",
      "\n",
      "\n",
      "\n",
      "\n",
      "NEW BEST: epoch 24, minibatch 1/1, best test F1: 93.400\n",
      "\n",
      "\n",
      "\n",
      "\n",
      "\n",
      "\n",
      "\n",
      "NEW BEST: epoch 32, minibatch 1/1, best test F1: 93.410\n",
      "\n",
      "NEW BEST: epoch 34, minibatch 1/1, best test F1: 93.660\n",
      "\n",
      "NEW BEST: epoch 36, minibatch 1/1, best test F1: 93.740\n",
      "\n",
      "\n",
      "\n",
      "\n",
      "\n",
      "\n",
      "\n",
      "\n",
      "\n",
      "\n",
      "\n",
      "\n",
      "\n",
      "\n",
      "\n",
      "\n",
      "\n",
      "\n",
      "\n",
      "\n",
      "\n",
      "\n",
      "\n",
      "('BEST RESULT: epoch', 36, 'best test F1', 93.74, 'with the model', '../result')\n"
     ]
    }
   ],
   "source": [
    "\"\"\"We have also tried Deep RNN just to see how it compares with shallow RNN. Result is, 93.74, slightly lower than the\n",
    "shallow RNN, 94.1\"\"\"\n",
    "\n",
    "import rnn_deep\n",
    "import imp\n",
    "imp.reload(rnn_deep)\n",
    "\n",
    "param = {\n",
    "        'lr': 0.1,\n",
    "        'verbose': True,\n",
    "        'decay': True,\n",
    "        'win': 3,\n",
    "        'nhidden1': 200,\n",
    "        'nhidden2': 300,\n",
    "        'seed': 345,\n",
    "        'emb_dimension': 50,\n",
    "        'nepochs': 60,\n",
    "        'savemodel': False,\n",
    "        'normal':True,\n",
    "        'layer_norm': False,\n",
    "        'minibatch_size':4978,\n",
    "        'moving_avg':3,\n",
    "        'folder':'../result'}\n",
    "\n",
    "rnn_deep.test_rnn2(**param);"
   ]
  },
  {
   "cell_type": "code",
   "execution_count": null,
   "metadata": {
    "collapsed": true
   },
   "outputs": [],
   "source": []
  }
 ],
 "metadata": {
  "kernelspec": {
   "display_name": "Python 2",
   "language": "python",
   "name": "python2"
  },
  "language_info": {
   "codemirror_mode": {
    "name": "ipython",
    "version": 2
   },
   "file_extension": ".py",
   "mimetype": "text/x-python",
   "name": "python",
   "nbconvert_exporter": "python",
   "pygments_lexer": "ipython2",
   "version": "2.7.11"
  }
 },
 "nbformat": 4,
 "nbformat_minor": 0
}
