{
 "cells": [
  {
   "cell_type": "code",
   "execution_count": 1,
   "metadata": {
    "collapsed": false,
    "scrolled": true
   },
   "outputs": [
    {
     "name": "stderr",
     "output_type": "stream",
     "text": [
      "Using gpu device 0: GRID K520 (CNMeM is disabled, cuDNN Version is too old. Update to v5, was 3007.)\n",
      "/home/ubuntu/miniconda2/envs/theano/lib/python2.7/site-packages/theano/tensor/signal/downsample.py:6: UserWarning: downsample module has been moved to the theano.tensor.signal.pool module.\n",
      "  \"downsample module has been moved to the theano.tensor.signal.pool module.\")\n"
     ]
    },
    {
     "name": "stdout",
     "output_type": "stream",
     "text": [
      "verbose: True\n",
      "win: 3\n",
      "layer_norm: False\n",
      "seed: 345\n",
      "moving_avg: 3\n",
      "nhidden: 300\n",
      "decay: True\n",
      "experiment: standard\n",
      "lr: 0.1\n",
      "folder: ../result\n",
      "minibatch_size: 4978\n",
      "normal: True\n",
      "nhidden2: 200\n",
      "nepochs: 10\n",
      "simplified_type: no_output\n",
      "emb_dimension: 50\n",
      "savemodel: False\n",
      "... loading the dataset\n",
      "Sentences in train: 4978, Words in train: 56590\n",
      "Sentences in test: 893, Words in test: 9198\n",
      "... building the model\n",
      "... training\n",
      "NEW BEST: epoch 0, minibatch 1/1, best test F1: 84.030\n",
      "NEW BEST: epoch 1, minibatch 1/1, best test F1: 88.980\n",
      "NEW BEST: epoch 2, minibatch 1/1, best test F1: 90.110\n",
      "NEW BEST: epoch 3, minibatch 1/1, best test F1: 92.040\n",
      "NEW BEST: epoch 4, minibatch 1/1, best test F1: 92.450\n",
      "NEW BEST: epoch 5, minibatch 1/1, best test F1: 92.560\n",
      "NEW BEST: epoch 6, minibatch 1/1, best test F1: 92.870\n",
      "\n",
      "NEW BEST: epoch 8, minibatch 1/1, best test F1: 93.190\n",
      "NEW BEST: epoch 9, minibatch 1/1, best test F1: 93.320\n",
      "('BEST RESULT: epoch', 9, 'best test F1', 93.32, 'with the model', '../result')\n"
     ]
    }
   ],
   "source": [
    "import lstm_simplified\n",
    "import imp\n",
    "imp.reload(lstm_simplified)\n",
    "\n",
    "param = {\n",
    "        'experiment':'standard',\n",
    "        'lr': 0.1,\n",
    "        'verbose': True,\n",
    "        'decay': True,\n",
    "        'win': 3,\n",
    "        'nhidden': 300,\n",
    "        'nhidden2':200,\n",
    "        'seed': 345,\n",
    "        'emb_dimension': 50,\n",
    "        'nepochs': 10,\n",
    "        'savemodel': False,\n",
    "        'normal': True,\n",
    "        'layer_norm': False,\n",
    "        'minibatch_size':4978,\n",
    "        'moving_avg':3,\n",
    "        'simplified_type':'no_output',\n",
    "        'folder':'../result'}\n",
    "    \n",
    "lstm_simplified.test_lstm(**param);"
   ]
  },
  {
   "cell_type": "code",
   "execution_count": 1,
   "metadata": {
    "collapsed": false,
    "scrolled": true
   },
   "outputs": [
    {
     "name": "stderr",
     "output_type": "stream",
     "text": [
      "Using gpu device 0: GRID K520 (CNMeM is disabled, cuDNN Version is too old. Update to v5, was 3007.)\n",
      "/home/ubuntu/miniconda2/envs/theano/lib/python2.7/site-packages/theano/tensor/signal/downsample.py:6: UserWarning: downsample module has been moved to the theano.tensor.signal.pool module.\n",
      "  \"downsample module has been moved to the theano.tensor.signal.pool module.\")\n"
     ]
    },
    {
     "name": "stdout",
     "output_type": "stream",
     "text": [
      "verbose: True\n",
      "win: 3\n",
      "layer_norm: False\n",
      "seed: 345\n",
      "moving_avg: 3\n",
      "nhidden: 300\n",
      "decay: True\n",
      "experiment: standard\n",
      "lr: 0.1\n",
      "folder: ../result\n",
      "minibatch_size: 4978\n",
      "normal: True\n",
      "nhidden2: 200\n",
      "nepochs: 11\n",
      "simplified_type: no_forget\n",
      "emb_dimension: 50\n",
      "savemodel: False\n",
      "... loading the dataset\n",
      "Sentences in train: 4978, Words in train: 56590\n",
      "Sentences in test: 893, Words in test: 9198\n",
      "... building the model\n",
      "... training\n",
      "NEW BEST: epoch 0, minibatch 1/1, best test F1: 70.410\n",
      "NEW BEST: epoch 1, minibatch 1/1, best test F1: 82.510\n",
      "NEW BEST: epoch 2, minibatch 1/1, best test F1: 87.460\n",
      "NEW BEST: epoch 3, minibatch 1/1, best test F1: 89.590\n",
      "NEW BEST: epoch 4, minibatch 1/1, best test F1: 91.200\n",
      "NEW BEST: epoch 5, minibatch 1/1, best test F1: 91.380\n",
      "NEW BEST: epoch 6, minibatch 1/1, best test F1: 92.330\n",
      "\n",
      "\n",
      "\n",
      "NEW BEST: epoch 10, minibatch 1/1, best test F1: 92.470\n",
      "('BEST RESULT: epoch', 10, 'best test F1', 92.47, 'with the model', '../result')\n"
     ]
    }
   ],
   "source": [
    "import lstm_simplified\n",
    "import imp\n",
    "imp.reload(lstm_simplified)\n",
    "\n",
    "param = {\n",
    "        'experiment':'standard',\n",
    "        'lr': 0.1,\n",
    "        'verbose': True,\n",
    "        'decay': True,\n",
    "        'win': 3,\n",
    "        'nhidden': 300,\n",
    "        'nhidden2':200,\n",
    "        'seed': 345,\n",
    "        'emb_dimension': 50,\n",
    "        'nepochs': 11,\n",
    "        'savemodel': False,\n",
    "        'normal': True,\n",
    "        'layer_norm': False,\n",
    "        'minibatch_size':4978,\n",
    "        'moving_avg':3,\n",
    "        'simplified_type':'no_forget',\n",
    "        'folder':'../result'}\n",
    "    \n",
    "lstm_simplified.test_lstm(**param);"
   ]
  },
  {
   "cell_type": "code",
   "execution_count": 2,
   "metadata": {
    "collapsed": false
   },
   "outputs": [
    {
     "name": "stdout",
     "output_type": "stream",
     "text": [
      "verbose: True\n",
      "win: 3\n",
      "layer_norm: False\n",
      "seed: 345\n",
      "moving_avg: 3\n",
      "nhidden: 300\n",
      "decay: True\n",
      "experiment: standard\n",
      "lr: 0.1\n",
      "folder: ../result\n",
      "minibatch_size: 4978\n",
      "normal: True\n",
      "nhidden2: 200\n",
      "nepochs: 11\n",
      "simplified_type: no_input\n",
      "emb_dimension: 50\n",
      "savemodel: False\n",
      "... loading the dataset\n",
      "Sentences in train: 4978, Words in train: 56590\n",
      "Sentences in test: 893, Words in test: 9198\n",
      "... building the model\n",
      "... training\n",
      "NEW BEST: epoch 0, minibatch 1/1, best test F1: 85.450\n",
      "NEW BEST: epoch 1, minibatch 1/1, best test F1: 89.740\n",
      "NEW BEST: epoch 2, minibatch 1/1, best test F1: 91.610\n",
      "NEW BEST: epoch 3, minibatch 1/1, best test F1: 92.360\n",
      "NEW BEST: epoch 4, minibatch 1/1, best test F1: 92.730\n",
      "\n",
      "NEW BEST: epoch 6, minibatch 1/1, best test F1: 93.210\n",
      "NEW BEST: epoch 7, minibatch 1/1, best test F1: 93.610\n",
      "\n",
      "\n",
      "\n",
      "('BEST RESULT: epoch', 7, 'best test F1', 93.61, 'with the model', '../result')\n"
     ]
    }
   ],
   "source": [
    "import lstm_simplified\n",
    "import imp\n",
    "imp.reload(lstm_simplified)\n",
    "\n",
    "param = {\n",
    "        'experiment':'standard',\n",
    "        'lr': 0.1,\n",
    "        'verbose': True,\n",
    "        'decay': True,\n",
    "        'win': 3,\n",
    "        'nhidden': 300,\n",
    "        'nhidden2':200,\n",
    "        'seed': 345,\n",
    "        'emb_dimension': 50,\n",
    "        'nepochs': 11,\n",
    "        'savemodel': False,\n",
    "        'normal': True,\n",
    "        'layer_norm': False,\n",
    "        'minibatch_size':4978,\n",
    "        'moving_avg':3,\n",
    "        'simplified_type':'no_input',\n",
    "        'folder':'../result'}\n",
    "    \n",
    "lstm_simplified.test_lstm(**param);"
   ]
  },
  {
   "cell_type": "code",
   "execution_count": null,
   "metadata": {
    "collapsed": true
   },
   "outputs": [],
   "source": []
  }
 ],
 "metadata": {
  "kernelspec": {
   "display_name": "Python 2",
   "language": "python",
   "name": "python2"
  },
  "language_info": {
   "codemirror_mode": {
    "name": "ipython",
    "version": 2
   },
   "file_extension": ".py",
   "mimetype": "text/x-python",
   "name": "python",
   "nbconvert_exporter": "python",
   "pygments_lexer": "ipython2",
   "version": "2.7.11"
  }
 },
 "nbformat": 4,
 "nbformat_minor": 0
}
